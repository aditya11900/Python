{
 "cells": [
  {
   "cell_type": "code",
   "execution_count": 2,
   "metadata": {},
   "outputs": [],
   "source": [
    "# Create an empty list to store contacts.\n",
    "contacts = []\n",
    "\n",
    "# Define a function to add a contact.\n",
    "def add_contact():\n",
    "    name = input(\"Enter the name of the contact: \")\n",
    "    phone_number = input(\"Enter the phone number of the contact: \")\n",
    "    contact = {\"name\": name, \"phone_number\": phone_number}\n",
    "    contacts.append(contact)\n",
    "    print(\"Contact added successfully.\")\n",
    "\n",
    "# Define a function to search for a contact.\n",
    "def search_contact():\n",
    "    name = input(\"Enter the name of the contact you are searching for: \")\n",
    "    for contact in contacts:\n",
    "        if contact[\"name\"] == name:\n",
    "            print(f\"Name: {contact['name']}\\nPhone number: {contact['phone_number']}\")\n",
    "            break\n",
    "    else:\n",
    "        print(\"Contact not found.\")\n",
    "\n",
    "# Create a loop to allow the user to add or search for contacts until they choose to exit.\n",
    "while True:\n",
    "    print(\"Enter 1 to add a contact.\")\n",
    "    print(\"Enter 2 to search for a contact.\")\n",
    "    print(\"Enter 3 to exit.\")\n",
    "    choice = input(\"Enter your choice: \")\n",
    "    if choice == \"1\":\n",
    "        add_contact()\n",
    "    elif choice == \"2\":\n",
    "        search_contact()\n",
    "    elif choice == \"3\":\n",
    "        break\n",
    "    else:\n",
    "        print(\"Invalid choice. Please try again.\")\n"
   ]
  }
 ],
 "metadata": {
  "kernelspec": {
   "display_name": "Python 3",
   "language": "python",
   "name": "python3"
  },
  "language_info": {
   "codemirror_mode": {
    "name": "ipython",
    "version": 3
   },
   "file_extension": ".py",
   "mimetype": "text/x-python",
   "name": "python",
   "nbconvert_exporter": "python",
   "pygments_lexer": "ipython3",
   "version": "3.11.4"
  }
 },
 "nbformat": 4,
 "nbformat_minor": 2
}
